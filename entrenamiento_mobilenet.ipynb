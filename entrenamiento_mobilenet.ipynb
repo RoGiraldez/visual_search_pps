{
  "nbformat": 4,
  "nbformat_minor": 0,
  "metadata": {
    "colab": {
      "name": "entrenamiento_mobilenet.ipynb",
      "provenance": [],
      "toc_visible": true,
      "authorship_tag": "ABX9TyP7XaSt5ux6cCaFVMQvLo7Q",
      "include_colab_link": true
    },
    "kernelspec": {
      "name": "python3",
      "display_name": "Python 3"
    },
    "accelerator": "GPU"
  },
  "cells": [
    {
      "cell_type": "markdown",
      "metadata": {
        "id": "view-in-github",
        "colab_type": "text"
      },
      "source": [
        "<a href=\"https://colab.research.google.com/github/RoGiraldez/visual_search_pps/blob/main/entrenamiento_mobilenet.ipynb\" target=\"_parent\"><img src=\"https://colab.research.google.com/assets/colab-badge.svg\" alt=\"Open In Colab\"/></a>"
      ]
    },
    {
      "cell_type": "markdown",
      "metadata": {
        "id": "5U7atydGrYAs"
      },
      "source": [
        "# Entrenamiento MobileNet"
      ]
    },
    {
      "cell_type": "markdown",
      "metadata": {
        "id": "qyz2F2UHriyc"
      },
      "source": [
        "## Librerias a utilizar"
      ]
    },
    {
      "cell_type": "code",
      "metadata": {
        "id": "qaf1EVcyEnVb"
      },
      "source": [
        "from tensorflow import keras\n",
        "from tensorflow.keras.preprocessing import image\n",
        "from keras.applications import MobileNet\n",
        "from keras.applications.mobilenet import preprocess_input\n",
        "#from SpatialPyramidPooling import SpatialPyramidPooling\n",
        "from tensorflow.keras.models import Model\n",
        "import numpy as np\n",
        "from tensorflow.keras.optimizers import Adam\n",
        "from keras.utils import plot_model\n",
        "import pandas as pd\n",
        "import os\n",
        "\n",
        "from tensorflow.keras.preprocessing.image import ImageDataGenerator"
      ],
      "execution_count": null,
      "outputs": []
    },
    {
      "cell_type": "markdown",
      "metadata": {
        "id": "z4ArpU5jr5Z2"
      },
      "source": [
        "El conjunto de imágenes a utilizar está subida a mi cuenta personal de drive, entonces utilizaré a la misma como almacenamiento y para ello debo ejecutar la siguiente celda"
      ]
    },
    {
      "cell_type": "code",
      "metadata": {
        "id": "7scwuEfFFoBy",
        "colab": {
          "base_uri": "https://localhost:8080/"
        },
        "outputId": "7156de8b-9b26-4852-e413-a28b46d4dae5"
      },
      "source": [
        "#montar el almacenamiento de drive en donde guardamos la BD\n",
        "from google.colab import drive\n",
        "drive.mount('/content/drive')"
      ],
      "execution_count": null,
      "outputs": [
        {
          "output_type": "stream",
          "text": [
            "Mounted at /content/drive\n"
          ],
          "name": "stdout"
        }
      ]
    },
    {
      "cell_type": "markdown",
      "metadata": {
        "id": "NSxF_Ej7sTL2"
      },
      "source": [
        "Se crea un data generator con algunas transformaciones de data augmentation tanto para el set de entrenamiento como para el de validación"
      ]
    },
    {
      "cell_type": "code",
      "metadata": {
        "id": "w4yU3NSUn_5T",
        "colab": {
          "base_uri": "https://localhost:8080/"
        },
        "outputId": "5e7b5e81-06e2-40b7-9f46-663ba5361e6f"
      },
      "source": [
        "train_datagen = ImageDataGenerator(rescale=1./255,\n",
        "                                   shear_range=0.2,\n",
        "                                   zoom_range=0.2,\n",
        "                                   width_shift_range=0.2,\n",
        "                                   height_shift_range=0.2,\n",
        "                                   fill_mode='nearest')\n",
        "\n",
        "valid_datagen = ImageDataGenerator(rescale=1./255)\n",
        "\n",
        "batch_size = 32\n",
        "base_dir = \"/content/drive/My Drive/BaseDeDatos/WHU-RS19\" #ruta de mi drive en \n",
        "#donde cargue las imágenes\n",
        "\n",
        "train_set = train_datagen.flow_from_directory(base_dir + '/train',\n",
        "                                              target_size=(224, 224),\n",
        "                                              batch_size=batch_size,\n",
        "                                              class_mode='categorical')\n",
        "\n",
        "valid_set = valid_datagen.flow_from_directory(base_dir + '/validation',\n",
        "                                              target_size=(224, 224),\n",
        "                                              batch_size=batch_size,\n",
        "                                              class_mode='categorical')"
      ],
      "execution_count": null,
      "outputs": [
        {
          "output_type": "stream",
          "text": [
            "Found 490 images belonging to 19 classes.\n",
            "Found 460 images belonging to 19 classes.\n"
          ],
          "name": "stdout"
        }
      ]
    },
    {
      "cell_type": "markdown",
      "metadata": {
        "id": "8Mco79HNpCd_"
      },
      "source": [
        "## Se define el modelo"
      ]
    },
    {
      "cell_type": "markdown",
      "metadata": {
        "id": "_rg3lsc8wA_p"
      },
      "source": [
        "Se aplica transfer learning "
      ]
    },
    {
      "cell_type": "code",
      "metadata": {
        "id": "83FdH13ao_-2",
        "colab": {
          "base_uri": "https://localhost:8080/"
        },
        "outputId": "541fb372-f552-469c-d104-86bcc24684ca"
      },
      "source": [
        "base_model = keras.applications.MobileNet(\n",
        "    weights=\"imagenet\",  # se cargan los pesos del modelo entrenado con ImageNet\n",
        "    input_shape=(224, 224, 3),\n",
        "    include_top=False  # no se incluye la capa de clasificación de 1000 clases correspondiente a ImageNet\n",
        ")  "
      ],
      "execution_count": null,
      "outputs": [
        {
          "output_type": "stream",
          "text": [
            "Downloading data from https://storage.googleapis.com/tensorflow/keras-applications/mobilenet/mobilenet_1_0_224_tf_no_top.h5\n",
            "17227776/17225924 [==============================] - 0s 0us/step\n"
          ],
          "name": "stdout"
        }
      ]
    },
    {
      "cell_type": "code",
      "metadata": {
        "id": "eISk0JymoBkb",
        "colab": {
          "base_uri": "https://localhost:8080/"
        },
        "outputId": "56cd3939-bcc3-4e23-fcd1-9968d18ef711"
      },
      "source": [
        "# Se congela el modelo base\n",
        "base_model.trainable = False\n",
        "\n",
        "# Se crea el modelo nuevo\n",
        "inputs = keras.Input(shape=(224, 224, 3))\n",
        "\n",
        "# El modelo base contiene capas de Batch Normalization. El objetivo es que estas permanezcan\n",
        "# en modo inferencia (predicción, no entrenamiento) al descongelar el modelo base para\n",
        "# utilizar la técnica de fine-tunninig. Para ello debemos asegurarnos que el modelo base corra\n",
        "# en modo inferencia aquí.\n",
        "x = base_model(inputs, training=False)\n",
        "x = keras.layers.GlobalAveragePooling2D()(x)\n",
        "x = keras.layers.Dropout(0.2)(x)  # Regularize with dropout\n",
        "outputs = keras.layers.Dense(19)(x)\n",
        "\n",
        "mobilenet_model = keras.Model(inputs, outputs, name='pretrained_mobilenet')\n",
        "mobilenet_model.summary()"
      ],
      "execution_count": null,
      "outputs": [
        {
          "output_type": "stream",
          "text": [
            "Model: \"pretrained_mobilenet\"\n",
            "_________________________________________________________________\n",
            "Layer (type)                 Output Shape              Param #   \n",
            "=================================================================\n",
            "input_3 (InputLayer)         [(None, 224, 224, 3)]     0         \n",
            "_________________________________________________________________\n",
            "mobilenet_1.00_224 (Function (None, 7, 7, 1024)        3228864   \n",
            "_________________________________________________________________\n",
            "global_average_pooling2d_1 ( (None, 1024)              0         \n",
            "_________________________________________________________________\n",
            "dropout_1 (Dropout)          (None, 1024)              0         \n",
            "_________________________________________________________________\n",
            "dense_1 (Dense)              (None, 19)                19475     \n",
            "=================================================================\n",
            "Total params: 3,248,339\n",
            "Trainable params: 19,475\n",
            "Non-trainable params: 3,228,864\n",
            "_________________________________________________________________\n"
          ],
          "name": "stdout"
        }
      ]
    },
    {
      "cell_type": "markdown",
      "metadata": {
        "id": "sAaZ0dudpSB1"
      },
      "source": [
        "**Compilación y entrenamiento del modelo**"
      ]
    },
    {
      "cell_type": "code",
      "metadata": {
        "id": "uqW4ae39oBns",
        "colab": {
          "base_uri": "https://localhost:8080/"
        },
        "outputId": "38c88851-ccca-408b-c3ff-5e45cb89c616"
      },
      "source": [
        "mobilenet_model.compile(optimizer=keras.optimizers.Adam(),\n",
        "                        loss=keras.losses.CategoricalCrossentropy(from_logits=True),\n",
        "                        metrics=[keras.metrics.CategoricalAccuracy()]\n",
        ")\n",
        "\n",
        "epochs = 20\n",
        "batch_size = 32\n",
        "print(len(train_set))\n",
        "print(len(valid_set)//batch_size)\n",
        "mobilenet_history = mobilenet_model.fit(train_set,                             \n",
        "                                        validation_data=valid_set,\n",
        "                                        epochs=epochs,                                   \n",
        ")"
      ],
      "execution_count": null,
      "outputs": [
        {
          "output_type": "stream",
          "text": [
            "16\n",
            "0\n",
            "Epoch 1/20\n",
            "16/16 [==============================] - 13s 753ms/step - loss: 4.1075 - categorical_accuracy: 0.1194 - val_loss: 3.6535 - val_categorical_accuracy: 0.1630\n",
            "Epoch 2/20\n",
            "16/16 [==============================] - 11s 712ms/step - loss: 1.5053 - categorical_accuracy: 0.5336 - val_loss: 1.9085 - val_categorical_accuracy: 0.4152\n",
            "Epoch 3/20\n",
            "16/16 [==============================] - 11s 714ms/step - loss: 0.7348 - categorical_accuracy: 0.7891 - val_loss: 1.5215 - val_categorical_accuracy: 0.5065\n",
            "Epoch 4/20\n",
            "16/16 [==============================] - 11s 714ms/step - loss: 0.4051 - categorical_accuracy: 0.8763 - val_loss: 1.0089 - val_categorical_accuracy: 0.6674\n",
            "Epoch 5/20\n",
            "16/16 [==============================] - 11s 722ms/step - loss: 0.3234 - categorical_accuracy: 0.9038 - val_loss: 0.8906 - val_categorical_accuracy: 0.7043\n",
            "Epoch 6/20\n",
            "16/16 [==============================] - 11s 714ms/step - loss: 0.2526 - categorical_accuracy: 0.9375 - val_loss: 0.9272 - val_categorical_accuracy: 0.6848\n",
            "Epoch 7/20\n",
            "16/16 [==============================] - 11s 713ms/step - loss: 0.1944 - categorical_accuracy: 0.9370 - val_loss: 0.7461 - val_categorical_accuracy: 0.7761\n",
            "Epoch 8/20\n",
            "16/16 [==============================] - 11s 709ms/step - loss: 0.1488 - categorical_accuracy: 0.9588 - val_loss: 0.7307 - val_categorical_accuracy: 0.7587\n",
            "Epoch 9/20\n",
            "16/16 [==============================] - 11s 706ms/step - loss: 0.1103 - categorical_accuracy: 0.9871 - val_loss: 0.6597 - val_categorical_accuracy: 0.8196\n",
            "Epoch 10/20\n",
            "16/16 [==============================] - 11s 709ms/step - loss: 0.1417 - categorical_accuracy: 0.9628 - val_loss: 0.7040 - val_categorical_accuracy: 0.8109\n",
            "Epoch 11/20\n",
            "16/16 [==============================] - 11s 709ms/step - loss: 0.1007 - categorical_accuracy: 0.9789 - val_loss: 0.5683 - val_categorical_accuracy: 0.8326\n",
            "Epoch 12/20\n",
            "16/16 [==============================] - 11s 713ms/step - loss: 0.0822 - categorical_accuracy: 0.9859 - val_loss: 0.5595 - val_categorical_accuracy: 0.8413\n",
            "Epoch 13/20\n",
            "16/16 [==============================] - 11s 709ms/step - loss: 0.1012 - categorical_accuracy: 0.9675 - val_loss: 0.7156 - val_categorical_accuracy: 0.8087\n",
            "Epoch 14/20\n",
            "16/16 [==============================] - 11s 708ms/step - loss: 0.0694 - categorical_accuracy: 0.9874 - val_loss: 0.6190 - val_categorical_accuracy: 0.8326\n",
            "Epoch 15/20\n",
            "16/16 [==============================] - 11s 707ms/step - loss: 0.0797 - categorical_accuracy: 0.9765 - val_loss: 0.6513 - val_categorical_accuracy: 0.8391\n",
            "Epoch 16/20\n",
            "16/16 [==============================] - 11s 713ms/step - loss: 0.0394 - categorical_accuracy: 0.9978 - val_loss: 0.6246 - val_categorical_accuracy: 0.8217\n",
            "Epoch 17/20\n",
            "16/16 [==============================] - 11s 708ms/step - loss: 0.0524 - categorical_accuracy: 0.9908 - val_loss: 0.5682 - val_categorical_accuracy: 0.8435\n",
            "Epoch 18/20\n",
            "16/16 [==============================] - 11s 714ms/step - loss: 0.0392 - categorical_accuracy: 0.9990 - val_loss: 0.5449 - val_categorical_accuracy: 0.8500\n",
            "Epoch 19/20\n",
            "16/16 [==============================] - 11s 716ms/step - loss: 0.0293 - categorical_accuracy: 1.0000 - val_loss: 0.5633 - val_categorical_accuracy: 0.8435\n",
            "Epoch 20/20\n",
            "16/16 [==============================] - 11s 709ms/step - loss: 0.0630 - categorical_accuracy: 0.9835 - val_loss: 0.5592 - val_categorical_accuracy: 0.8478\n"
          ],
          "name": "stdout"
        }
      ]
    },
    {
      "cell_type": "markdown",
      "metadata": {
        "id": "Oq-4QHNBvgP4"
      },
      "source": [
        "\n",
        "Evaluación del modelo en datos de validación"
      ]
    },
    {
      "cell_type": "code",
      "metadata": {
        "id": "rSFned-foBqM",
        "colab": {
          "base_uri": "https://localhost:8080/"
        },
        "outputId": "45bd8bf2-b77d-451d-90ec-847010bc0b3e"
      },
      "source": [
        "results = mobilenet_model.evaluate(valid_set)\n",
        "print('val loss:', results[0])\n",
        "print('val acc:', results[1])"
      ],
      "execution_count": null,
      "outputs": [
        {
          "output_type": "stream",
          "text": [
            "15/15 [==============================] - 3s 226ms/step - loss: 0.5592 - categorical_accuracy: 0.8478\n",
            "val loss: 0.559186577796936\n",
            "val acc: 0.8478260636329651\n"
          ],
          "name": "stdout"
        }
      ]
    },
    {
      "cell_type": "markdown",
      "metadata": {
        "id": "rLKOjwUovuaD"
      },
      "source": [
        "Se grafica el progreso del entrenamiento\n"
      ]
    },
    {
      "cell_type": "code",
      "metadata": {
        "id": "SA3qLDkVoBtz",
        "colab": {
          "base_uri": "https://localhost:8080/",
          "height": 313
        },
        "outputId": "037b795c-647e-4cdf-c1d7-8c7dad943833"
      },
      "source": [
        "import matplotlib.pyplot as plt\n",
        "import seaborn as sns\n",
        "\n",
        "train_acc = mobilenet_history.history['categorical_accuracy']\n",
        "val_acc = mobilenet_history.history['val_categorical_accuracy']\n",
        "\n",
        "epochs_list = list(range(1, epochs + 1))\n",
        "\n",
        "plt.plot(epochs_list, train_acc, label='train acc')\n",
        "plt.plot(epochs_list, val_acc, label='val acc')\n",
        "plt.title(\"MobileNet's Accuracy\")\n",
        "plt.xlabel('Epochs')\n",
        "plt.ylabel('Accuracy')\n",
        "plt.legend(loc='best')"
      ],
      "execution_count": null,
      "outputs": [
        {
          "output_type": "execute_result",
          "data": {
            "text/plain": [
              "<matplotlib.legend.Legend at 0x7f23bd76fc90>"
            ]
          },
          "metadata": {
            "tags": []
          },
          "execution_count": 19
        },
        {
          "output_type": "display_data",
          "data": {
            "image/png": "[encoded data removed]",
            "text/plain": [
              "<Figure size 432x288 with 1 Axes>"
            ]
          },
          "metadata": {
            "tags": [],
            "needs_background": "light"
          }
        }
      ]
    },
    {
      "cell_type": "code",
      "metadata": {
        "id": "j6WSHf6RwCft",
        "colab": {
          "base_uri": "https://localhost:8080/",
          "height": 313
        },
        "outputId": "d5e5c325-ea51-471e-882e-cb1ff8c648e5"
      },
      "source": [
        "train_loss = mobilenet_history.history['loss']\n",
        "val_loss = mobilenet_history.history['val_loss']\n",
        "\n",
        "plt.plot(epochs_list, train_loss, label='train loss')\n",
        "plt.plot(epochs_list, val_loss, label='val loss')\n",
        "plt.title(\"MobileNet's Loss\")\n",
        "plt.xlabel('Epochs')\n",
        "plt.ylabel('Loss')\n",
        "plt.legend(loc='best')"
      ],
      "execution_count": null,
      "outputs": [
        {
          "output_type": "execute_result",
          "data": {
            "text/plain": [
              "<matplotlib.legend.Legend at 0x7f23bc71da10>"
            ]
          },
          "metadata": {
            "tags": []
          },
          "execution_count": 20
        },
        {
          "output_type": "display_data",
          "data": {
            "image/png": "[encoded data removed]",
            "text/plain": [
              "<Figure size 432x288 with 1 Axes>"
            ]
          },
          "metadata": {
            "tags": [],
            "needs_background": "light"
          }
        }
      ]
    },
    {
      "cell_type": "markdown",
      "metadata": {
        "id": "W_nRhZ7D0ymO"
      },
      "source": [
        "\n",
        "Save the model"
      ]
    },
    {
      "cell_type": "code",
      "metadata": {
        "id": "kMiu1bSX0yzW",
        "colab": {
          "base_uri": "https://localhost:8080/"
        },
        "outputId": "5d3c8795-5fe8-4d67-82f8-2167007c121c"
      },
      "source": [
        "mobilenet_model.save('mobilenet')"
      ],
      "execution_count": null,
      "outputs": [
        {
          "output_type": "stream",
          "text": [
            "INFO:tensorflow:Assets written to: mobilenet/assets\n"
          ],
          "name": "stdout"
        }
      ]
    },
    {
      "cell_type": "markdown",
      "metadata": {
        "id": "5d62h8TZ03Pt"
      },
      "source": [
        "Unfreeze the base model and apply fine-tuning of the weights"
      ]
    },
    {
      "cell_type": "code",
      "metadata": {
        "id": "5TWF9PUJ02x8",
        "colab": {
          "base_uri": "https://localhost:8080/"
        },
        "outputId": "c3648d14-4f04-449a-d36c-6caab27bb47b"
      },
      "source": [
        "# Se descongela el modelo base. Acá las capas de Batch Normalization\n",
        "# no actualizaran las estadísticas propias de ellas. Esto es porque\n",
        "# al efectuar la llamada al modelo le pasamos 'training=False', lo cual\n",
        "# previene que se deshaga todo el entrenamiento que hemos hecho hasta ahora\n",
        "base_model.trainable = True\n",
        "mobilenet_model.summary()"
      ],
      "execution_count": null,
      "outputs": [
        {
          "output_type": "stream",
          "text": [
            "Model: \"pretrained_mobilenet\"\n",
            "_________________________________________________________________\n",
            "Layer (type)                 Output Shape              Param #   \n",
            "=================================================================\n",
            "input_3 (InputLayer)         [(None, 224, 224, 3)]     0         \n",
            "_________________________________________________________________\n",
            "mobilenet_1.00_224 (Function (None, 7, 7, 1024)        3228864   \n",
            "_________________________________________________________________\n",
            "global_average_pooling2d_1 ( (None, 1024)              0         \n",
            "_________________________________________________________________\n",
            "dropout_1 (Dropout)          (None, 1024)              0         \n",
            "_________________________________________________________________\n",
            "dense_1 (Dense)              (None, 19)                19475     \n",
            "=================================================================\n",
            "Total params: 3,248,339\n",
            "Trainable params: 3,226,451\n",
            "Non-trainable params: 21,888\n",
            "_________________________________________________________________\n"
          ],
          "name": "stdout"
        }
      ]
    },
    {
      "cell_type": "code",
      "metadata": {
        "id": "SEptJ-Oy092y",
        "colab": {
          "base_uri": "https://localhost:8080/"
        },
        "outputId": "5b44d897-89ef-4e58-ab1d-146f3fa8ef31"
      },
      "source": [
        "mobilenet_model.compile(optimizer=keras.optimizers.Adam(1e-5),  # tasa de aprendizaje pequeña\n",
        "                        loss=keras.losses.CategoricalCrossentropy(from_logits=True),\n",
        "                        metrics=[keras.metrics.CategoricalAccuracy()]\n",
        ")\n",
        "\n",
        "epochs = 10\n",
        "\n",
        "mobilenet_ft_history = mobilenet_model.fit(train_set,\n",
        "                                           validation_data=valid_set,\n",
        "                                           epochs=epochs,\n",
        "                                       \n",
        ")"
      ],
      "execution_count": null,
      "outputs": [
        {
          "output_type": "stream",
          "text": [
            "Epoch 1/10\n",
            "16/16 [==============================] - 15s 824ms/step - loss: 0.0643 - categorical_accuracy: 0.9833 - val_loss: 0.7050 - val_categorical_accuracy: 0.8239\n",
            "Epoch 2/10\n",
            "16/16 [==============================] - 12s 777ms/step - loss: 0.0344 - categorical_accuracy: 0.9977 - val_loss: 0.6415 - val_categorical_accuracy: 0.8304\n",
            "Epoch 3/10\n",
            "16/16 [==============================] - 13s 786ms/step - loss: 0.0425 - categorical_accuracy: 0.9939 - val_loss: 0.5545 - val_categorical_accuracy: 0.8522\n",
            "Epoch 4/10\n",
            "16/16 [==============================] - 12s 777ms/step - loss: 0.0359 - categorical_accuracy: 0.9938 - val_loss: 0.5255 - val_categorical_accuracy: 0.8652\n",
            "Epoch 5/10\n",
            "16/16 [==============================] - 12s 768ms/step - loss: 0.0324 - categorical_accuracy: 0.9893 - val_loss: 0.7481 - val_categorical_accuracy: 0.8109\n",
            "Epoch 6/10\n",
            "16/16 [==============================] - 12s 764ms/step - loss: 0.0279 - categorical_accuracy: 0.9917 - val_loss: 0.6447 - val_categorical_accuracy: 0.8457\n",
            "Epoch 7/10\n",
            "16/16 [==============================] - 12s 760ms/step - loss: 0.0399 - categorical_accuracy: 0.9917 - val_loss: 0.7406 - val_categorical_accuracy: 0.8413\n",
            "Epoch 8/10\n",
            "16/16 [==============================] - 12s 802ms/step - loss: 0.0355 - categorical_accuracy: 0.9913 - val_loss: 0.5660 - val_categorical_accuracy: 0.8696\n",
            "Epoch 9/10\n",
            "16/16 [==============================] - 12s 802ms/step - loss: 0.0140 - categorical_accuracy: 0.9970 - val_loss: 0.7346 - val_categorical_accuracy: 0.8326\n",
            "Epoch 10/10\n",
            "16/16 [==============================] - 12s 768ms/step - loss: 0.0119 - categorical_accuracy: 1.0000 - val_loss: 0.5924 - val_categorical_accuracy: 0.8674\n"
          ],
          "name": "stdout"
        }
      ]
    },
    {
      "cell_type": "markdown",
      "metadata": {
        "id": "-5zopms209r0"
      },
      "source": [
        "\n",
        "Evaluate the fine-tuned model"
      ]
    },
    {
      "cell_type": "code",
      "metadata": {
        "id": "NYyzr4sK3Xwf",
        "colab": {
          "base_uri": "https://localhost:8080/"
        },
        "outputId": "bf3b37d9-9f89-4b5e-fbd4-c99063e3897d"
      },
      "source": [
        "results = mobilenet_model.evaluate(valid_set)\n",
        "print('val loss:', results[0])\n",
        "print('val acc:', results[1])"
      ],
      "execution_count": null,
      "outputs": [
        {
          "output_type": "stream",
          "text": [
            "15/15 [==============================] - 3s 227ms/step - loss: 0.5924 - categorical_accuracy: 0.8674\n",
            "val loss: 0.5924205183982849\n",
            "val acc: 0.8673912882804871\n"
          ],
          "name": "stdout"
        }
      ]
    },
    {
      "cell_type": "markdown",
      "metadata": {
        "id": "istJocqY7kAg"
      },
      "source": [
        "\n",
        "Plot the training progress of the fine-tuned model"
      ]
    },
    {
      "cell_type": "code",
      "metadata": {
        "id": "BR-aDMhN7i0O",
        "colab": {
          "base_uri": "https://localhost:8080/",
          "height": 313
        },
        "outputId": "b76a0cfa-8446-4c1c-e198-6fb1be8a555d"
      },
      "source": [
        "train_acc = mobilenet_ft_history.history['categorical_accuracy']\n",
        "val_acc = mobilenet_ft_history.history['val_categorical_accuracy']\n",
        "\n",
        "epochs_list = list(range(1, epochs + 1))\n",
        "\n",
        "plt.plot(epochs_list, train_acc, label='train acc')\n",
        "plt.plot(epochs_list, val_acc, label='val acc')\n",
        "plt.title(\"Fine-tuned MobileNet's Accuracy\")\n",
        "plt.xlabel('Epochs')\n",
        "plt.ylabel('Accuracy')\n",
        "plt.legend(loc='best')"
      ],
      "execution_count": null,
      "outputs": [
        {
          "output_type": "execute_result",
          "data": {
            "text/plain": [
              "<matplotlib.legend.Legend at 0x7f23bd27f250>"
            ]
          },
          "metadata": {
            "tags": []
          },
          "execution_count": 24
        },
        {
          "output_type": "display_data",
          "data": {
            "image/png": "[encoded data removed]",
            "text/plain": [
              "<Figure size 432x288 with 1 Axes>"
            ]
          },
          "metadata": {
            "tags": [],
            "needs_background": "light"
          }
        }
      ]
    },
    {
      "cell_type": "code",
      "metadata": {
        "id": "hzz0jYL2754f",
        "colab": {
          "base_uri": "https://localhost:8080/",
          "height": 313
        },
        "outputId": "e51841bb-ed02-4fa5-ef72-103859387a97"
      },
      "source": [
        "train_loss = mobilenet_ft_history.history['loss']\n",
        "val_loss = mobilenet_ft_history.history['val_loss']\n",
        "\n",
        "plt.plot(epochs_list, train_loss, label='train loss')\n",
        "plt.plot(epochs_list, val_loss, label='val loss')\n",
        "plt.title(\"MobileNet's Loss\")\n",
        "plt.xlabel('Epochs')\n",
        "plt.ylabel('Loss')\n",
        "plt.legend(loc='best')"
      ],
      "execution_count": null,
      "outputs": [
        {
          "output_type": "execute_result",
          "data": {
            "text/plain": [
              "<matplotlib.legend.Legend at 0x7f23bd25cd50>"
            ]
          },
          "metadata": {
            "tags": []
          },
          "execution_count": 25
        },
        {
          "output_type": "display_data",
          "data": {
            "image/png": "[encoded data removed]",
            "text/plain": [
              "<Figure size 432x288 with 1 Axes>"
            ]
          },
          "metadata": {
            "tags": [],
            "needs_background": "light"
          }
        }
      ]
    },
    {
      "cell_type": "markdown",
      "metadata": {
        "id": "UukSvo_l7t9X"
      },
      "source": [
        "Save the fine-tuned model"
      ]
    },
    {
      "cell_type": "code",
      "metadata": {
        "id": "G-iyxxQ-7ulS"
      },
      "source": [
        "mobilenet_model.save('mobilenet-fine-tuned.h5')\n",
        "\n"
      ],
      "execution_count": null,
      "outputs": []
    },
    {
      "cell_type": "code",
      "metadata": {
        "id": "8PxveOeF9SX6"
      },
      "source": [
        "mobilenet_model.save_weights('PESOS.h5')\n"
      ],
      "execution_count": null,
      "outputs": []
    },
    {
      "cell_type": "markdown",
      "metadata": {
        "id": "Hya72A8ZqEOf"
      },
      "source": [
        "Ejemplo de como corroborar recursos brindados por Colaboratory"
      ]
    },
    {
      "cell_type": "code",
      "metadata": {
        "colab": {
          "base_uri": "https://localhost:8080/"
        },
        "id": "RlpL4DN3p7ul",
        "outputId": "8f1c712a-36d7-4260-8a49-326b9b194fd6"
      },
      "source": [
        "# memory footprint support libraries/code\n",
        "!ln -sf /opt/bin/nvidia-smi /usr/bin/nvidia-smi\n",
        "!pip install gputil\n",
        "!pip install psutil\n",
        "!pip install humanize\n",
        "import psutil\n",
        "import humanize\n",
        "import os\n",
        "import GPUtil as GPU\n",
        "GPUs = GPU.getGPUs()\n",
        "# XXX: only one GPU on Colab and isn’t guaranteed\n",
        "gpu = GPUs[0]\n",
        "def printm():\n",
        " process = psutil.Process(os.getpid())\n",
        " print(\"Gen RAM Free: \" + humanize.naturalsize( psutil.virtual_memory().available ), \" | Proc size: \" + humanize.naturalsize( process.memory_info().rss))\n",
        " print(\"GPU RAM Free: {0:.0f}MB | Used: {1:.0f}MB | Util {2:3.0f}% | Total {3:.0f}MB\".format(gpu.memoryFree, gpu.memoryUsed, gpu.memoryUtil*100, gpu.memoryTotal))\n",
        "printm()"
      ],
      "execution_count": 1,
      "outputs": [
        {
          "output_type": "stream",
          "text": [
            "Collecting gputil\n",
            "  Downloading https://files.pythonhosted.org/packages/ed/0e/5c61eedde9f6c87713e89d794f01e378cfd9565847d4576fa627d758c554/GPUtil-1.4.0.tar.gz\n",
            "Building wheels for collected packages: gputil\n",
            "  Building wheel for gputil (setup.py) ... \u001b[?25l\u001b[?25hdone\n",
            "  Created wheel for gputil: filename=GPUtil-1.4.0-cp37-none-any.whl size=7411 sha256=c6c368745737e59f1863a1dc387ef19bea948a26606ae0efe66aaa211074fc6e\n",
            "  Stored in directory: /root/.cache/pip/wheels/3d/77/07/80562de4bb0786e5ea186911a2c831fdd0018bda69beab71fd\n",
            "Successfully built gputil\n",
            "Installing collected packages: gputil\n",
            "Successfully installed gputil-1.4.0\n",
            "Requirement already satisfied: psutil in /usr/local/lib/python3.7/dist-packages (5.4.8)\n",
            "Requirement already satisfied: humanize in /usr/local/lib/python3.7/dist-packages (0.5.1)\n",
            "Gen RAM Free: 12.8 GB  | Proc size: 118.4 MB\n",
            "GPU RAM Free: 15109MB | Used: 0MB | Util   0% | Total 15109MB\n"
          ],
          "name": "stdout"
        }
      ]
    }
  ]
}